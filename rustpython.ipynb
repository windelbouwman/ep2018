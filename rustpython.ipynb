{
 "cells": [
  {
   "cell_type": "markdown",
   "metadata": {
    "slideshow": {
     "slide_type": "slide"
    }
   },
   "source": [
    "# A python implementation in rust\n",
    "## Windel Bouwman\n",
    "## europython 2018\n"
   ]
  },
  {
   "cell_type": "markdown",
   "metadata": {
    "slideshow": {
     "slide_type": "slide"
    }
   },
   "source": [
    "# whoami\n",
    "\n",
    "- Software engineer\n",
    "- python and open source enthusiast\n",
    "- main author of ppci\n",
    "- twitter: @windelbouwman\n",
    "- github: github.com/windelbouwman\n"
   ]
  },
  {
   "cell_type": "markdown",
   "metadata": {
    "slideshow": {
     "slide_type": "slide"
    }
   },
   "source": [
    "# What is rust\n",
    "\n",
    "- A relatively new programming language\n",
    "- Same target audience as C/C++\n",
    "- Prevents many common errors such as:\n",
    "  - buffer overflows\n",
    "  - memory leaks\n",
    "- Staticly typed\n",
    "- No garbage collection\n",
    "- Developed by mozilla and used in firefox\n"
   ]
  },
  {
   "cell_type": "markdown",
   "metadata": {
    "slideshow": {
     "slide_type": "slide"
    }
   },
   "source": [
    "# What is the problem with C, why do we need rust?\n",
    "\n",
    "- It is a complex language\n",
    "- A mistake is easily made\n",
    "- There is not really package / dependency management like pip, npm, conda\n",
    "- The larger the application, the harder memory problems become to pinpoint"
   ]
  },
  {
   "cell_type": "markdown",
   "metadata": {
    "slideshow": {
     "slide_type": "subslide"
    }
   },
   "source": [
    "To many new C/C++ programmers the following comes as a surprise:\n",
    "\n",
    "## Code\n",
    "```c\n",
    "#include <stdio.h>\n",
    "\n",
    "struct {\n",
    "  int data[10];\n",
    "  int zero;\n",
    "} my_data;\n",
    "\n",
    "int main() {\n",
    "  my_data.zero = 0;\n",
    "  for (int i=0;i<=10;i++)\n",
    "    my_data.data[i] = i;\n",
    "  printf(\"zero = %i\\n\", my_data.zero);\n",
    "}\n",
    "\n",
    "```\n",
    "https://repl.it/repls/EvilAdoredCleantech\n",
    "\n",
    "## Result\n",
    "```\n",
    "zero = 10\n",
    "```\n",
    "\n",
    "Wait, no error? What did it do?"
   ]
  },
  {
   "cell_type": "markdown",
   "metadata": {
    "slideshow": {
     "slide_type": "subslide"
    }
   },
   "source": [
    "# So how does rust address this issue?"
   ]
  },
  {
   "cell_type": "markdown",
   "metadata": {
    "slideshow": {
     "slide_type": "subslide"
    }
   },
   "source": [
    "# Example\n",
    "\n",
    "```rust\n",
    "struct MyStruct {\n",
    "  data: Vec<i32>,\n",
    "  zero: i32,\n",
    "}\n",
    "\n",
    "fn main() {\n",
    "  let mut my_data = MyStruct {\n",
    "    data: vec!(),\n",
    "    zero: 0,\n",
    "  };\n",
    "  for i in 0..10 {\n",
    "    my_data.data.push(i);\n",
    "  }\n",
    "  println!(\"zero = {:?}\", my_data.zero);\n",
    "}\n",
    "\n",
    "```\n",
    "\n",
    "https://repl.it/repls/GruesomeLovelyProgrammer\n",
    "\n",
    "## Result\n",
    "```\n",
    "zero = 0\n",
    "```"
   ]
  },
  {
   "cell_type": "markdown",
   "metadata": {
    "slideshow": {
     "slide_type": "slide"
    }
   },
   "source": [
    "# Also: the rust webassembly hype\n",
    "\n",
    "- There are a lot of javascript developers than C developers\n",
    "- Javascript programmers are moving to webassembly and rust\n",
    "- This means: a lot of rust programmers coming up"
   ]
  },
  {
   "cell_type": "markdown",
   "metadata": {
    "slideshow": {
     "slide_type": "slide"
    }
   },
   "source": [
    "# Why use C to develop an application\n",
    "\n",
    "- C is used to develop kernel and drivers\n",
    "  - We need close access to hardware\n",
    "  - We need access to memory and pointers\n",
    "\n",
    "- Most of the time it is better to create an application with C#, java, python, ... anything but C/C++\n",
    "  - An application contains so much logic, it is more important that it can be understood than that it is fast\n",
    "\n",
    "- We do not need all the power given by C for most applications\n",
    "\n",
    "- But Python itself is implemented in C... (CPython)\n"
   ]
  },
  {
   "cell_type": "markdown",
   "metadata": {
    "slideshow": {
     "slide_type": "slide"
    }
   },
   "source": [
    "# Enter rustpython\n",
    "\n",
    "- re-implementation of python in rust\n",
    "- Idea:\n",
    "  - Benefit from the usage of rust\n",
    "  - Closely look at lessons learned in cpython over multiple decades\n",
    "  - Use rust libraries to implement libraries such as regex\n",
    "\n",
    "https://github.com/RustPython/RustPython\n"
   ]
  },
  {
   "cell_type": "markdown",
   "metadata": {
    "slideshow": {
     "slide_type": "subslide"
    }
   },
   "source": [
    "# The design\n",
    "\n"
   ]
  },
  {
   "cell_type": "markdown",
   "metadata": {
    "slideshow": {
     "slide_type": "subslide"
    }
   },
   "source": [
    "# Lexer\n",
    "\n",
    "- Handwritten lexer\n",
    "- Introduce indent / dedent tokens to deals with whitespace"
   ]
  },
  {
   "cell_type": "markdown",
   "metadata": {
    "slideshow": {
     "slide_type": "subslide"
    }
   },
   "source": [
    "# Parser\n",
    "\n",
    "- Use lalrpop to generate a parser from a grammar\n",
    "- Take tokens and turn them into an abstract syntax tree"
   ]
  },
  {
   "cell_type": "markdown",
   "metadata": {
    "slideshow": {
     "slide_type": "subslide"
    }
   },
   "source": [
    "# Ast (abstract syntax tree)\n",
    "\n",
    "- The ast will contain the parsed program\n",
    "\n",
    "```rust\n",
    "\n",
    "#[derive(Debug, PartialEq)]\n",
    "pub enum Statement {\n",
    "    If {\n",
    "        test: Expression,\n",
    "        body: Vec<Statement>,\n",
    "        orelse: Option<Vec<Statement>>,\n",
    "    },\n",
    "    Break,\n",
    "    ...\n",
    "}\n",
    "\n",
    "pub enum Expression {\n",
    "    Binop {\n",
    "        a: Box<Expression>,\n",
    "        op: Operator,\n",
    "        b: Box<Expression>,\n",
    "    },\n",
    "    ...\n",
    "},\n",
    "```"
   ]
  },
  {
   "cell_type": "markdown",
   "metadata": {
    "slideshow": {
     "slide_type": "subslide"
    }
   },
   "source": [
    "# Parser generator: LALRPOP\n",
    "\n",
    "- Very powerful grammar to define syntax\n",
    "\n",
    "```rust\n",
    "IfStatement: ast::Statement = {\n",
    "  \"if\" <t:Test> \":\" <s1:Suite> <s2:(\"elif\" Test \":\" Suite)*> <s3:(\"else\" \":\" Suite)?> => {\n",
    "    // Determine last else:\n",
    "    let mut last = match s3 {\n",
    "      Some(s) => Some(s.2),\n",
    "      None => None,\n",
    "    };\n",
    "\n",
    "    // handle elif:\n",
    "    for i in s2.into_iter().rev() {\n",
    "      last = Some(vec![ast::Statement::If { test: i.1, body: i.3, orelse: last }]);\n",
    "    }\n",
    "\n",
    "    ast::Statement::If { test: t, body: s1, orelse: last }\n",
    "  },\n",
    "};\n",
    "```"
   ]
  },
  {
   "cell_type": "markdown",
   "metadata": {
    "slideshow": {
     "slide_type": "subslide"
    }
   },
   "source": [
    "# Bytecode\n",
    "\n",
    "- The python virtual machine operates on bytecodes."
   ]
  },
  {
   "cell_type": "code",
   "execution_count": 2,
   "metadata": {
    "scrolled": true,
    "slideshow": {
     "slide_type": "fragment"
    }
   },
   "outputs": [
    {
     "name": "stdout",
     "output_type": "stream",
     "text": [
      "  3           0 LOAD_FAST                0 (a)\n",
      "              2 LOAD_FAST                1 (b)\n",
      "              4 BINARY_ADD\n",
      "              6 LOAD_CONST               1 (3)\n",
      "              8 BINARY_ADD\n",
      "             10 RETURN_VALUE\n"
     ]
    }
   ],
   "source": [
    "import dis\n",
    "def f(a, b):\n",
    "    return a + b + 3\n",
    "dis.dis(f.__code__)"
   ]
  },
  {
   "cell_type": "markdown",
   "metadata": {
    "slideshow": {
     "slide_type": "subslide"
    }
   },
   "source": [
    "# Compiler\n",
    "\n",
    "- Main purpose: take AST and produce bytecode\n",
    "\n",
    "```rust\n",
    "fn compile_expression(&mut self, expression: ast::Expression) {\n",
    "        trace!(\"Compiling {:?}\", expression);\n",
    "        match expression {\n",
    "            ast::Expression::Call { function, args } => {\n",
    "                self.compile_expression(*function);\n",
    "                let count = args.len();\n",
    "                for arg in args {\n",
    "                    self.compile_expression(arg)\n",
    "                }\n",
    "                self.emit(Instruction::CallFunction { count: count });\n",
    "            }\n",
    "            ast::Expression::Binop { a, op, b } => {\n",
    "                self.compile_expression(*a);\n",
    "                self.compile_expression(*b);\n",
    "\n",
    "                // Perform operation:\n",
    "                let i = match op {\n",
    "                    ast::Operator::Add => bytecode::BinaryOperator::Add,\n",
    "                    ast::Operator::Sub => bytecode::BinaryOperator::Subtract,\n",
    "                    ast::Operator::Mult => bytecode::BinaryOperator::Multiply,\n",
    "                    ast::Operator::MatMult => bytecode::BinaryOperator::MatrixMultiply,\n",
    "                    ast::Operator::Div => bytecode::BinaryOperator::Divide,\n",
    "                    ast::Operator::FloorDiv => bytecode::BinaryOperator::FloorDivide,\n",
    "                    ast::Operator::Mod => bytecode::BinaryOperator::Modulo,\n",
    "                    ast::Operator::Pow => bytecode::BinaryOperator::Power,\n",
    "                    ast::Operator::LShift => bytecode::BinaryOperator::Lshift,\n",
    "                    ast::Operator::RShift => bytecode::BinaryOperator::Rshift,\n",
    "                    ast::Operator::BitOr => bytecode::BinaryOperator::Or,\n",
    "                    ast::Operator::BitXor => bytecode::BinaryOperator::Xor,\n",
    "                    ast::Operator::BitAnd => bytecode::BinaryOperator::And,\n",
    "                };\n",
    "                let i = Instruction::BinaryOperation { op: i };\n",
    "                self.emit(i);\n",
    "}\n",
    "```"
   ]
  },
  {
   "cell_type": "markdown",
   "metadata": {
    "slideshow": {
     "slide_type": "subslide"
    }
   },
   "source": [
    "# Object model\n",
    "\n",
    "- Python uses reference counting.\n",
    "- In rust we have Rc (reference counting pointer) (https://doc.rust-lang.org/std/rc/struct.Rc.html)\n",
    "\n",
    "```rust\n",
    "pub type PyRef<T> = Rc<RefCell<T>>;\n",
    "pub type PyObjectRef = PyRef<PyObject>;\n",
    "\n",
    "pub struct PyObject {\n",
    "    pub kind: PyObjectKind,\n",
    "    pub typ: Option<PyObjectRef>,\n",
    "    pub dict: HashMap<String, PyObjectRef>,\n",
    "}\n",
    "\n",
    "pub enum PyObjectKind {\n",
    "    String { value: String },\n",
    "    Integer { value: i32 },\n",
    "    ..\n",
    "}\n",
    "```"
   ]
  },
  {
   "cell_type": "markdown",
   "metadata": {
    "slideshow": {
     "slide_type": "slide"
    }
   },
   "source": [
    "# Virtual machine\n",
    "\n",
    "- Maintain a stack of frames\n",
    "- Per frame maintain a value stack\n",
    "- For each instruction:\n",
    "    - pop operands from value stack\n",
    "    - Do proper operation\n",
    "    - push value back on value stack"
   ]
  },
  {
   "cell_type": "markdown",
   "metadata": {
    "slideshow": {
     "slide_type": "subslide"
    }
   },
   "source": [
    "# Frame loop\n",
    "\n",
    "- Run instructions until a return or an exception occurs.\n",
    "\n",
    "```rust\n",
    "    fn run_frame(&mut self, frame: Frame) -> PyResult {\n",
    "        self.frames.push(frame);\n",
    "\n",
    "        // Execute until return or exception:\n",
    "        let value = loop {\n",
    "            let result = self.execute_instruction();\n",
    "            match result {\n",
    "                None => {}\n",
    "                Some(Ok(value)) => {\n",
    "                    break Ok(value);\n",
    "                }\n",
    "                Some(Err(exception)) => {\n",
    "                    // unwind block stack on exception and find any handlers.\n",
    "                    match self.unwind_exception(exception) {\n",
    "                        None => {},\n",
    "                        Some(exception) => break Err(exception),\n",
    "                    }\n",
    "                }\n",
    "            }\n",
    "        };\n",
    "\n",
    "        self.pop_frame();\n",
    "        value\n",
    "    }\n",
    "```"
   ]
  },
  {
   "cell_type": "markdown",
   "metadata": {
    "slideshow": {
     "slide_type": "subslide"
    }
   },
   "source": [
    "# Instruction dispatch\n",
    "\n",
    "```rust\n",
    "    fn execute_instruction(&mut self) -> Option<PyResult> {\n",
    "        let instruction = self.current_frame().fetch_instruction();\n",
    "        trace!(\"  Executing op code: {:?}\", instruction);\n",
    "        match &instruction {\n",
    "            bytecode::Instruction::LoadConst { ref value } => {\n",
    "                let obj = match value {\n",
    "                    &bytecode::Constant::Integer { ref value } => self.ctx.new_int(*value),\n",
    "                };\n",
    "                self.push_value(obj);\n",
    "                None\n",
    "            }\n",
    "            bytecode::Instruction::Import { ref name } => self.import(name),\n",
    "            bytecode::Instruction::LoadName { ref name } => self.load_name(name),\n",
    "            bytecode::Instruction::StoreSubscript => self.execute_store_subscript(),\n",
    "            ...\n",
    "```"
   ]
  },
  {
   "cell_type": "markdown",
   "metadata": {
    "slideshow": {
     "slide_type": "subslide"
    }
   },
   "source": [
    "# Load name\n",
    "\n",
    "```rust\n",
    "\n",
    "    fn load_name(&mut self, name: &String) -> Option<PyResult> {\n",
    "        // Lookup name in scope and put it onto the stack!\n",
    "        if self.current_frame().locals.contains_key(name) {\n",
    "            let obj = self.current_frame().locals.get_item(name);\n",
    "            self.push_value(obj);\n",
    "            None\n",
    "        } else if self.builtins.contains_key(name) {\n",
    "            let obj = self.builtins.get_item(name);\n",
    "            self.push_value(obj);\n",
    "            None\n",
    "        } else {\n",
    "            let name_error = PyObject::new(\n",
    "                PyObjectKind::NameError {\n",
    "                    name: name.to_string(),\n",
    "                },\n",
    "                self.get_type(),\n",
    "            );\n",
    "            Some(Err(name_error))\n",
    "        }\n",
    "    }\n",
    "\n",
    "```"
   ]
  },
  {
   "cell_type": "markdown",
   "metadata": {
    "slideshow": {
     "slide_type": "slide"
    }
   },
   "source": [
    "# Performance\n",
    "\n",
    "- So how does all this perform?\n",
    "- Lets take a simple benchmark\n",
    "\n",
    "```python\n",
    "j = 0\n",
    "while j < 1000:\n",
    "    total = 0\n",
    "    i = 0\n",
    "    while i < 100:\n",
    "        total += i\n",
    "        i += 1\n",
    "    j += 1\n",
    "```"
   ]
  },
  {
   "cell_type": "markdown",
   "metadata": {
    "slideshow": {
     "slide_type": "fragment"
    }
   },
   "source": [
    "```bash\n",
    "python snippets/perf_add.py  0.05s user 0.01s system 99% cpu 0.058 total\n",
    "cargo run snippets/perf_add.py  2.73s user 0.03s system 99% cpu 2.782 total\n",
    "cargo run --release snippets/perf_add.py  0.29s user 0.03s system 99% cpu 0.312 total\n",
    "```\n",
    "- Non scientific conclusion: rustpython is 5.3 times slower"
   ]
  },
  {
   "cell_type": "markdown",
   "metadata": {
    "slideshow": {
     "slide_type": "fragment"
    }
   },
   "source": []
  },
  {
   "cell_type": "markdown",
   "metadata": {
    "slideshow": {
     "slide_type": "slide"
    }
   },
   "source": [
    "# Builtins\n",
    "## How is the python all function implemented?\n",
    "\n",
    "- Using rust's iterator\n",
    "\n",
    "```rust\n",
    "\n",
    "fn all(rt: &mut Executor, args: Vec<PyObjectRef>) -> PyResult {\n",
    "    Ok(rt.new_bool(args.into_iter().all(|e| objbool::boolval(e))))\n",
    "}\n",
    "```"
   ]
  },
  {
   "cell_type": "markdown",
   "metadata": {
    "slideshow": {
     "slide_type": "slide"
    }
   },
   "source": [
    "# Demo\n",
    " TODO"
   ]
  },
  {
   "cell_type": "markdown",
   "metadata": {
    "slideshow": {
     "slide_type": "slide"
    }
   },
   "source": [
    "# Future ideas\n",
    "\n",
    "- Build as web app using webassembly and cargo web\n",
    "- Implement and test multithreading since we do not have a GIL yet\n",
    "- "
   ]
  },
  {
   "cell_type": "markdown",
   "metadata": {
    "slideshow": {
     "slide_type": "slide"
    }
   },
   "source": [
    "# That's all!\n",
    "\n",
    "- We welcome new developers for rust python\n",
    "- Checkout: https://github.com/RustPython/RustPython\n",
    "- windel.nl\n",
    "- @windelbouwman\n",
    "- https://github.com/windelbouwman/\n"
   ]
  },
  {
   "cell_type": "code",
   "execution_count": null,
   "metadata": {},
   "outputs": [],
   "source": []
  }
 ],
 "metadata": {
  "celltoolbar": "Slideshow",
  "kernelspec": {
   "display_name": "Python 3",
   "language": "python",
   "name": "python3"
  },
  "language_info": {
   "codemirror_mode": {
    "name": "ipython",
    "version": 3
   },
   "file_extension": ".py",
   "mimetype": "text/x-python",
   "name": "python",
   "nbconvert_exporter": "python",
   "pygments_lexer": "ipython3",
   "version": "3.6.5"
  }
 },
 "nbformat": 4,
 "nbformat_minor": 2
}
